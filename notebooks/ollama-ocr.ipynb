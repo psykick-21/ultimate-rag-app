{
 "cells": [
  {
   "cell_type": "code",
   "execution_count": 1,
   "metadata": {},
   "outputs": [],
   "source": [
    "from ollama_ocr import OCRProcessor"
   ]
  },
  {
   "cell_type": "code",
   "execution_count": 2,
   "metadata": {},
   "outputs": [],
   "source": [
    "ocr = OCRProcessor(model_name=\"gemma3:12b\")"
   ]
  },
  {
   "cell_type": "code",
   "execution_count": 4,
   "metadata": {},
   "outputs": [
    {
     "name": "stdout",
     "output_type": "stream",
     "text": [
      "No. of pages in the PDF 1\n",
      "Using default prompt: Extract all text content from this image in en **exactly as it appears**, without modification, summarization, or omission.\n",
      "                                Format the output in markdown:\n",
      "                                - Use headers (#, ##, ###) **only if they appear in the image**\n",
      "                                - Preserve original lists (-, *, numbered lists) as they are\n",
      "                                - Maintain all text formatting (bold, italics, underlines) exactly as seen\n",
      "                                - **Do not add, interpret, or restructure any content**\n",
      "                            \n",
      "Page No. Processed 0\n"
     ]
    }
   ],
   "source": [
    "results = ocr.process_image(image_path=r\"C:\\Users\\psyki\\Downloads\\Payment_Receipt.pdf\", format_type=\"markdown\")\n"
   ]
  },
  {
   "cell_type": "code",
   "execution_count": 6,
   "metadata": {},
   "outputs": [
    {
     "name": "stdout",
     "output_type": "stream",
     "text": [
      "Page 1:\n",
      "Here's the extracted text from the image, exactly as it appears:\n",
      "\n",
      "# **NPS** \n",
      "## **TRUST** \n",
      "\n",
      "                                       **NPS** \n",
      "\n",
      "**Thank you for contributing** \n",
      "-   **NPS** \n",
      "\n",
      "**Online Acknowledgement**\n",
      "\n",
      "**Please quote this reference number for any queries related to this contribution.**\n",
      "\n",
      "**Permanent Account Number (PAN):** \n",
      "                                                       111053159A\n",
      "\n",
      "**Name of Subscriber:** \n",
      "                                                 GAURAV SHARMA \n",
      "\n",
      "**Contribution Amount:** \n",
      "                                                                     INR 5000.00\n",
      "\n",
      "**Contribution Tier:** \n",
      "                                                                                 1\n",
      "\n",
      "**Employer Contribution:**\n",
      "                                                                     INR 0.00\n",
      "\n",
      "**Government Contribution:**\n",
      "                                                                     INR 0.00\n",
      "\n",
      "**Scheme Contribution:**\n",
      "                                                                     INR 5000.00\n",
      "\n",
      "**Administrative Charges:**\n",
      "                                                                     INR 0.00\n",
      "\n",
      "**Transaction Charges:**\n",
      "                                                                     INR 0.00\n",
      "\n",
      "**Tax:**\n",
      "                                                                    INR 0.00\n",
      "\n",
      "**Net Amount:**\n",
      "                                                               INR 5000.00\n",
      "\n",
      "**Accumulated Contribution:**\n",
      "                                                INR 177144.00\n",
      "\n",
      "**Transaction ID:**\n",
      "                                 12455929\n",
      "\n",
      "**Merchant Number:**\n",
      "                                 NPS\n",
      "\n",
      "**Contribution Receipt Number:**\n",
      "                                 1238685081471785\n",
      "\n",
      "**Transaction Reference Number:**\n",
      "                                 23992992\n",
      "\n",
      "**Transaction Date:**\n",
      "                                 2023-03-28\n",
      "\n",
      "**Transaction Time:**\n",
      "                                 10:51:58\n",
      "\n",
      "**Status:**\n",
      "                                Successful\n",
      "\n",
      "**Remarks:**\n",
      "                                    \n",
      "**Please note that the purchase of units will take at least two working days and is subject to clearance of funds from your bank account.**\n",
      "\n",
      "**This is a system generated document and does not require signature.** \n",
      "\n",
      "*   **Any unauthorized use, disclosure, dissemination, or reproduction is strictly prohibited.**\n",
      "\n",
      "\n",
      "\n",
      "**NPS** Trust), 14th Floor, IFCI Tower, 61, Nehru Place, New Delhi-110019\n"
     ]
    }
   ],
   "source": [
    "print(results)"
   ]
  },
  {
   "cell_type": "code",
   "execution_count": null,
   "metadata": {},
   "outputs": [],
   "source": []
  }
 ],
 "metadata": {
  "kernelspec": {
   "display_name": ".venv",
   "language": "python",
   "name": "python3"
  },
  "language_info": {
   "codemirror_mode": {
    "name": "ipython",
    "version": 3
   },
   "file_extension": ".py",
   "mimetype": "text/x-python",
   "name": "python",
   "nbconvert_exporter": "python",
   "pygments_lexer": "ipython3",
   "version": "3.13.3"
  }
 },
 "nbformat": 4,
 "nbformat_minor": 2
}
